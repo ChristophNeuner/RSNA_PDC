{
 "cells": [
  {
   "cell_type": "markdown",
   "metadata": {},
   "source": [
    "# References"
   ]
  },
  {
   "cell_type": "code",
   "execution_count": 7,
   "metadata": {},
   "outputs": [],
   "source": [
    "%matplotlib inline\n",
    "%reload_ext autoreload\n",
    "%autoreload 2\n",
    "\n",
    "from fastai.conv_learner import *\n",
    "from fastai.dataset import *\n",
    "\n",
    "import pdb\n",
    "from PIL import ImageDraw, ImageFont\n",
    "from matplotlib import patches, patheffects\n",
    "import pandas\n",
    "\n",
    "torch.cuda.set_device(0)\n",
    "torch.backends.cudnn.benchmark=True"
   ]
  },
  {
   "cell_type": "markdown",
   "metadata": {},
   "source": [
    "# Global Variables"
   ]
  },
  {
   "cell_type": "code",
   "execution_count": 5,
   "metadata": {},
   "outputs": [],
   "source": [
    "dp = Path('../../datasets/RSNA_PDC/')"
   ]
  },
  {
   "cell_type": "code",
   "execution_count": 6,
   "metadata": {},
   "outputs": [
    {
     "data": {
      "text/plain": [
       "[PosixPath('../../datasets/RSNA_PDC/stage_1_test_images'),\n",
       " PosixPath('../../datasets/RSNA_PDC/stage_1_detailed_class_info.csv'),\n",
       " PosixPath('../../datasets/RSNA_PDC/stage_1_sample_submission.csv'),\n",
       " PosixPath('../../datasets/RSNA_PDC/GCP Credits Request Link - RSNA.txt'),\n",
       " PosixPath('../../datasets/RSNA_PDC/.ipynb_checkpoints'),\n",
       " PosixPath('../../datasets/RSNA_PDC/stage_1_train_images'),\n",
       " PosixPath('../../datasets/RSNA_PDC/stage_1_train_labels.csv')]"
      ]
     },
     "execution_count": 6,
     "metadata": {},
     "output_type": "execute_result"
    }
   ],
   "source": [
    "list(dp.iterdir())"
   ]
  },
  {
   "cell_type": "code",
   "execution_count": 8,
   "metadata": {},
   "outputs": [
    {
     "name": "stdout",
     "output_type": "stream",
     "text": [
      "                                  patientId                         class\n",
      "0      0004cfab-14fd-4e49-80ba-63a80b6bddd6  No Lung Opacity / Not Normal\n",
      "1      00313ee0-9eaa-42f4-b0ab-c148ed3241cd  No Lung Opacity / Not Normal\n",
      "2      00322d4d-1c29-4943-afc9-b6754be640eb  No Lung Opacity / Not Normal\n",
      "3      003d8fa0-6bf1-40ed-b54c-ac657f8495c5                        Normal\n",
      "4      00436515-870c-4b36-a041-de91049b9ab4                  Lung Opacity\n",
      "5      00436515-870c-4b36-a041-de91049b9ab4                  Lung Opacity\n",
      "6      00569f44-917d-4c86-a842-81832af98c30  No Lung Opacity / Not Normal\n",
      "7      006cec2e-6ce2-4549-bffa-eadfcd1e9970  No Lung Opacity / Not Normal\n",
      "8      00704310-78a8-4b38-8475-49f4573b2dbb                  Lung Opacity\n",
      "9      00704310-78a8-4b38-8475-49f4573b2dbb                  Lung Opacity\n",
      "10     008c19e8-a820-403a-930a-bc74a4053664  No Lung Opacity / Not Normal\n",
      "11     009482dc-3db5-48d4-8580-5c89c4f01334                        Normal\n",
      "12     009eb222-eabc-4150-8121-d5a6d06b8ebf                        Normal\n",
      "13     00a85be6-6eb0-421d-8acf-ff2dc0007e8a                        Normal\n",
      "14     00aecb01-a116-45a2-956c-08d2fa55433f                  Lung Opacity\n",
      "15     00aecb01-a116-45a2-956c-08d2fa55433f                  Lung Opacity\n",
      "16     00c0b293-48e7-4e16-ac76-9269ba535a62                  Lung Opacity\n",
      "17     00c0b293-48e7-4e16-ac76-9269ba535a62                  Lung Opacity\n",
      "18     00d7c36e-3cdf-4df6-ac03-6c30cdc8e85b  No Lung Opacity / Not Normal\n",
      "19     00f08de1-517e-4652-a04f-d1dc9ee48593                  Lung Opacity\n",
      "20     00f08de1-517e-4652-a04f-d1dc9ee48593                  Lung Opacity\n",
      "21     00f87de5-5fe0-4921-93ea-914d7e683266                        Normal\n",
      "22     0100515c-5204-4f31-98e0-f35e4b00004a                  Lung Opacity\n",
      "23     01027bc3-dc40-4165-a6c3-d6be2cb7ca34                        Normal\n",
      "24     010ccb9f-6d46-4380-af11-84f87397a1b8                  Lung Opacity\n",
      "25     010ccb9f-6d46-4380-af11-84f87397a1b8                  Lung Opacity\n",
      "26     011d6f51-b732-4d45-a84d-90477325ef2d  No Lung Opacity / Not Normal\n",
      "27     012a5620-d082-4bb8-9b3b-e72d8938000c                  Lung Opacity\n",
      "28     012a5620-d082-4bb8-9b3b-e72d8938000c                  Lung Opacity\n",
      "29     014b7b58-f641-4477-8bbc-ae6f337745d6  No Lung Opacity / Not Normal\n",
      "...                                     ...                           ...\n",
      "28959  ffc9e552-ca53-43a8-a156-b0f97f0d40f3                        Normal\n",
      "28960  ffcc35e8-6fe8-42df-9605-9fedf57240d1                        Normal\n",
      "28961  ffcfe8c1-5641-4dc3-910c-573e3227f536  No Lung Opacity / Not Normal\n",
      "28962  ffd0c212-bfb6-41e3-b17b-b927b99d1730  No Lung Opacity / Not Normal\n",
      "28963  ffd2bc74-f9d6-49fb-84d7-de060ee22583  No Lung Opacity / Not Normal\n",
      "28964  ffd56560-6754-4a20-83c6-06ad5c4b30ab                        Normal\n",
      "28965  ffd670a5-b6dc-4f54-928a-69b7a04662eb  No Lung Opacity / Not Normal\n",
      "28966  ffd787b6-59ca-48cb-bd15-bcedd52cf37c                  Lung Opacity\n",
      "28967  ffd787b6-59ca-48cb-bd15-bcedd52cf37c                  Lung Opacity\n",
      "28968  ffdc771e-1f1a-47f7-b732-3e06e48c24e8  No Lung Opacity / Not Normal\n",
      "28969  ffdc8a6a-f513-4a04-9c1d-24840a779220                        Normal\n",
      "28970  ffdc957e-6239-427d-8a54-fdf8ced3a356  No Lung Opacity / Not Normal\n",
      "28971  ffde3879-241c-4b03-9d91-625cae6b49e8  No Lung Opacity / Not Normal\n",
      "28972  ffde3e7e-849c-4077-bfd0-4e4498ee8817  No Lung Opacity / Not Normal\n",
      "28973  ffe16061-b19f-4333-8a03-b41aab42b47d                        Normal\n",
      "28974  ffe4707d-517c-4ed0-8a9f-3ad149748991  No Lung Opacity / Not Normal\n",
      "28975  ffe9a1c4-634d-408f-9b0f-8098ffb78a4e  No Lung Opacity / Not Normal\n",
      "28976  ffe9ab5c-9d39-4235-9ade-d725dcad6b76  No Lung Opacity / Not Normal\n",
      "28977  ffeab8ae-f339-40d6-96f1-f1f8c97d2cb1  No Lung Opacity / Not Normal\n",
      "28978  ffee0360-20cf-4d4a-9af5-e5c9b493c73b  No Lung Opacity / Not Normal\n",
      "28979  fff0b503-72a5-446a-843d-f3d152e39053                  Lung Opacity\n",
      "28980  fff1cc9c-3895-43be-84e1-a7aaef21002b  No Lung Opacity / Not Normal\n",
      "28981  fff50447-821b-4b72-ae91-22b0679d6d3e                        Normal\n",
      "28982  fff7447f-99ce-4102-87f3-9788b2459eb4  No Lung Opacity / Not Normal\n",
      "28983  fffb2395-8edd-4954-8a89-ffe2fd329be3                  Lung Opacity\n",
      "28984  fffb2395-8edd-4954-8a89-ffe2fd329be3                  Lung Opacity\n",
      "28985  fffba05a-1635-4545-9bbd-57ad4cfe8d27                        Normal\n",
      "28986  fffc95b5-605b-4226-80ab-62caec682b22  No Lung Opacity / Not Normal\n",
      "28987  fffcff11-d018-4414-971a-a7cefa327795  No Lung Opacity / Not Normal\n",
      "28988  fffec09e-8a4a-48b1-b33e-ab4890ccd136  No Lung Opacity / Not Normal\n",
      "\n",
      "[28989 rows x 2 columns]\n"
     ]
    }
   ],
   "source": [
    "dci = pandas.read_csv(dp/'stage_1_detailed_class_info.csv')\n",
    "print(dci)"
   ]
  }
 ],
 "metadata": {
  "kernelspec": {
   "display_name": "Python 3",
   "language": "python",
   "name": "python3"
  },
  "language_info": {
   "codemirror_mode": {
    "name": "ipython",
    "version": 3
   },
   "file_extension": ".py",
   "mimetype": "text/x-python",
   "name": "python",
   "nbconvert_exporter": "python",
   "pygments_lexer": "ipython3",
   "version": "3.6.5"
  },
  "toc": {
   "base_numbering": 1,
   "nav_menu": {},
   "number_sections": true,
   "sideBar": true,
   "skip_h1_title": false,
   "title_cell": "Table of Contents",
   "title_sidebar": "Contents",
   "toc_cell": false,
   "toc_position": {},
   "toc_section_display": true,
   "toc_window_display": true
  },
  "varInspector": {
   "cols": {
    "lenName": 16,
    "lenType": 16,
    "lenVar": 40
   },
   "kernels_config": {
    "python": {
     "delete_cmd_postfix": "",
     "delete_cmd_prefix": "del ",
     "library": "var_list.py",
     "varRefreshCmd": "print(var_dic_list())"
    },
    "r": {
     "delete_cmd_postfix": ") ",
     "delete_cmd_prefix": "rm(",
     "library": "var_list.r",
     "varRefreshCmd": "cat(var_dic_list()) "
    }
   },
   "types_to_exclude": [
    "module",
    "function",
    "builtin_function_or_method",
    "instance",
    "_Feature"
   ],
   "window_display": false
  }
 },
 "nbformat": 4,
 "nbformat_minor": 2
}
