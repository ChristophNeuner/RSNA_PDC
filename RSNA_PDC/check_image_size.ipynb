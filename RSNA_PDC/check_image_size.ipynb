{
 "cells": [
  {
   "cell_type": "code",
   "execution_count": 2,
   "metadata": {},
   "outputs": [],
   "source": [
    "%matplotlib inline\n",
    "%reload_ext autoreload\n",
    "%autoreload 2\n",
    "\n",
    "import sys\n",
    "sys.path.append('../../fastai/old/') #fastai version 0.7\n",
    "#sys.path.append('../../fastai/') #fastai version 1\n",
    "\n",
    "from fastai.conv_learner import *\n",
    "from fastai.dataset import *\n",
    "\n",
    "import pdb\n",
    "from PIL import ImageDraw, ImageFont\n",
    "from matplotlib import patches, patheffects\n",
    "import pandas as pd\n",
    "import matplotlib.pyplot as plt\n",
    "import pydicom\n",
    "import numpy as np\n",
    "from pathlib import Path\n",
    "from glob import glob\n",
    "from matplotlib.patches import Rectangle\n",
    "import png\n",
    "from tqdm import tqdm_notebook as tqdm"
   ]
  },
  {
   "cell_type": "code",
   "execution_count": 3,
   "metadata": {},
   "outputs": [],
   "source": [
    "dp = Path('../../datasets/RSNA_PDC/')\n",
    "\n",
    "DICOMS = dp/'stage_1_train_images'\n",
    "\n",
    "PNGS = dp/'train_png'\n",
    "PNGS.mkdir(exist_ok=True)\n",
    "\n",
    "TEST_ONE = 'test1_png'"
   ]
  },
  {
   "cell_type": "code",
   "execution_count": 4,
   "metadata": {},
   "outputs": [],
   "source": [
    "t_ps = glob(os.path.join(dp/TEST_ONE, '*.png'))"
   ]
  },
  {
   "cell_type": "code",
   "execution_count": 5,
   "metadata": {},
   "outputs": [
    {
     "data": {
      "text/plain": [
       "['../../datasets/RSNA_PDC/test1_png/11fcbe52-87f7-4074-85ac-153d5f255e35.png',\n",
       " '../../datasets/RSNA_PDC/test1_png/2673d0ba-ab94-4aac-8a9f-1599818c2c12.png',\n",
       " '../../datasets/RSNA_PDC/test1_png/2fb8f201-843f-44fd-90cd-d1f257f996cf.png',\n",
       " '../../datasets/RSNA_PDC/test1_png/1bed7fb4-bb3f-4be4-a5be-4ca7f34312a5.png',\n",
       " '../../datasets/RSNA_PDC/test1_png/153a8af1-6d5c-42fc-b681-b81953d796b3.png']"
      ]
     },
     "execution_count": 5,
     "metadata": {},
     "output_type": "execute_result"
    }
   ],
   "source": [
    "t_ps[0:5]"
   ]
  },
  {
   "cell_type": "code",
   "execution_count": 16,
   "metadata": {},
   "outputs": [
    {
     "data": {
      "application/vnd.jupyter.widget-view+json": {
       "model_id": "0509715d886a4687855cec92a380cf5d",
       "version_major": 2,
       "version_minor": 0
      },
      "text/plain": [
       "HBox(children=(IntProgress(value=0, max=1000), HTML(value='')))"
      ]
     },
     "metadata": {},
     "output_type": "display_data"
    }
   ],
   "source": [
    "for index, path in tqdm(enumerate(t_ps), total=len(t_ps)):\n",
    "    im = open_image(path)\n",
    "    if im.shape[0]!=1024 or  im.shape[1]!=1024 or im.shape[2]!=3:\n",
    "        print(im.shape)"
   ]
  }
 ],
 "metadata": {
  "kernelspec": {
   "display_name": "Python 3",
   "language": "python",
   "name": "python3"
  },
  "language_info": {
   "codemirror_mode": {
    "name": "ipython",
    "version": 3
   },
   "file_extension": ".py",
   "mimetype": "text/x-python",
   "name": "python",
   "nbconvert_exporter": "python",
   "pygments_lexer": "ipython3",
   "version": "3.6.5"
  },
  "toc": {
   "base_numbering": 1,
   "nav_menu": {},
   "number_sections": true,
   "sideBar": true,
   "skip_h1_title": false,
   "title_cell": "Table of Contents",
   "title_sidebar": "Contents",
   "toc_cell": false,
   "toc_position": {},
   "toc_section_display": true,
   "toc_window_display": false
  }
 },
 "nbformat": 4,
 "nbformat_minor": 2
}
